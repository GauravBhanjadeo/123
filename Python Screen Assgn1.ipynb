{
 "cells": [
  {
   "cell_type": "raw",
   "id": "e342c707",
   "metadata": {},
   "source": [
    "def read_replace():\n",
    "    \n",
    "    x=input(\"Enter the string you want to replace:\")\n",
    "    y=input(\"Enter the string ypu want to replace with:\") \n",
    "    \n",
    "    with open('example.txt', 'r') as f:\n",
    "        file = f.read()\n",
    "        file = file.replace(x, y)\n",
    "    with open('example.txt', 'w') as f:\n",
    "         f.write(file)\n",
    "    return (\"Task Completed Succesfully\")\n"
   ]
  },
  {
   "cell_type": "code",
   "execution_count": 2,
   "id": "f3dbaabe",
   "metadata": {},
   "outputs": [],
   "source": [
    "from abc import abstractmethod\n",
    "\n",
    "class Father():\n",
    "    def Driving(self):\n",
    "        pass\n",
    "class Mother():\n",
    "    def Cooking(self):\n",
    "        pass\n",
    "class Child(Father, Mother):\n",
    "    def Playing(self):\n",
    "        pass"
   ]
  },
  {
   "cell_type": "code",
   "execution_count": null,
   "id": "40726728",
   "metadata": {},
   "outputs": [],
   "source": []
  }
 ],
 "metadata": {
  "kernelspec": {
   "display_name": "Python 3 (ipykernel)",
   "language": "python",
   "name": "python3"
  },
  "language_info": {
   "codemirror_mode": {
    "name": "ipython",
    "version": 3
   },
   "file_extension": ".py",
   "mimetype": "text/x-python",
   "name": "python",
   "nbconvert_exporter": "python",
   "pygments_lexer": "ipython3",
   "version": "3.9.7"
  }
 },
 "nbformat": 4,
 "nbformat_minor": 5
}
